{
 "cells": [
  {
   "cell_type": "code",
   "execution_count": 1,
   "id": "e0ab8e3d-86bb-47c4-a2f9-63ee46eddc1a",
   "metadata": {},
   "outputs": [],
   "source": [
    "import pandas as pd"
   ]
  },
  {
   "cell_type": "code",
   "execution_count": 5,
   "id": "51d6520e-e666-4a16-8577-729342ecf1f5",
   "metadata": {},
   "outputs": [],
   "source": [
    "import os\n",
    "from dotenv import load_dotenv\n",
    "\n",
    "load_dotenv()\n",
    "\n",
    "OPENAI_API_KEY = os.environ.get('OPENAI_API_KEY')"
   ]
  },
  {
   "cell_type": "code",
   "execution_count": 6,
   "id": "dd6b0af2-7fd7-4296-b064-166299e40f81",
   "metadata": {},
   "outputs": [],
   "source": [
    "from openai import OpenAI\n",
    "\n",
    "client = OpenAI()"
   ]
  },
  {
   "cell_type": "code",
   "execution_count": 81,
   "id": "e7ad40da-c5f7-4f4d-87ae-bbf801309f3d",
   "metadata": {},
   "outputs": [],
   "source": [
    "df = pd.read_csv('../data/data.csv')\n",
    "documents = df.to_dict(orient='records')"
   ]
  },
  {
   "cell_type": "code",
   "execution_count": 82,
   "id": "8b9ce1ab-b461-46a0-9e66-be85281d5a8a",
   "metadata": {},
   "outputs": [],
   "source": [
    "prompt_template = \"\"\"\n",
    "You emulate a user of our activity planner application.\n",
    "Formulate 5 questions this user might ask based on a provided activity.\n",
    "Make the questions specific to this activity.\n",
    "The record should contain the answer to the questions, and the questions should\n",
    "be complete and not too short. Use as fewer words as possible from the record. \n",
    "\n",
    "\n",
    "THE RECORD:\n",
    " \n",
    "activity_name:{activity_name}\n",
    "activity_type:{activity_type}\n",
    "materials_needed:{materials_needed}\n",
    "time_required:{time_required}\n",
    "age_group:{age_group}\n",
    "difficulty_level:{difficulty_level} \n",
    "instructions:{instructions} \n",
    "\n",
    "Provide the output in parsable JSON without using code blocks:\n",
    "\n",
    "{{\"questions\": [\"question1\", \"question2\", ..., \"question5\"]}}\n",
    "\"\"\".strip()"
   ]
  },
  {
   "cell_type": "code",
   "execution_count": 83,
   "id": "aee0c24f-3ca0-44c2-b66b-7672c2a1f6e9",
   "metadata": {},
   "outputs": [],
   "source": [
    "prompt = prompt_template.format(**documents[0])"
   ]
  },
  {
   "cell_type": "code",
   "execution_count": 84,
   "id": "c899093b-96bd-41ff-83da-eed2402e3b86",
   "metadata": {},
   "outputs": [],
   "source": [
    "def llm(prompt):\n",
    "    response = client.chat.completions.create(\n",
    "        model='gpt-4o-mini',\n",
    "        messages=[{\"role\": \"user\", \"content\": prompt}]\n",
    "    )\n",
    "    \n",
    "    return response.choices[0].message.content"
   ]
  },
  {
   "cell_type": "code",
   "execution_count": 85,
   "id": "7c9e43c6-e7aa-4c59-9e5e-62e3338e7ca0",
   "metadata": {},
   "outputs": [],
   "source": [
    "questions = llm(prompt)"
   ]
  },
  {
   "cell_type": "code",
   "execution_count": 86,
   "id": "8f3fb33a-b2a2-470a-ac26-07a1dbcf6448",
   "metadata": {},
   "outputs": [],
   "source": [
    "import json"
   ]
  },
  {
   "cell_type": "code",
   "execution_count": 87,
   "id": "b4670cf0-d80d-4f22-8fed-419fda92be4e",
   "metadata": {},
   "outputs": [
    {
     "data": {
      "text/plain": [
       "{'questions': ['What materials do I need for the family picnic activity?',\n",
       "  'How much time should I allocate for the family picnic?',\n",
       "  'Is this family picnic suitable for toddlers?',\n",
       "  'What level of difficulty should I expect when organizing the picnic?',\n",
       "  'What steps should I follow to set up the picnic?']}"
      ]
     },
     "execution_count": 87,
     "metadata": {},
     "output_type": "execute_result"
    }
   ],
   "source": [
    "json.loads(questions)"
   ]
  },
  {
   "cell_type": "code",
   "execution_count": 88,
   "id": "55d807c1-02fa-44a7-bebd-31264f4a75e6",
   "metadata": {},
   "outputs": [],
   "source": [
    "def generate_questions(doc):\n",
    "    prompt = prompt_template.format(**doc)\n",
    "\n",
    "    response = client.chat.completions.create(\n",
    "        model='gpt-4o-mini',\n",
    "        messages=[{\"role\": \"user\", \"content\": prompt}]\n",
    "    )\n",
    "\n",
    "    json_response = response.choices[0].message.content\n",
    "    return json_response"
   ]
  },
  {
   "cell_type": "code",
   "execution_count": 89,
   "id": "778e8192-0e89-4d41-aa8f-7e9a08f2dd44",
   "metadata": {},
   "outputs": [],
   "source": [
    "from tqdm.auto import tqdm"
   ]
  },
  {
   "cell_type": "code",
   "execution_count": 90,
   "id": "4f75e0ae-3a07-460e-9872-b0a88e1a01e7",
   "metadata": {},
   "outputs": [],
   "source": [
    "results = {}"
   ]
  },
  {
   "cell_type": "code",
   "execution_count": 91,
   "id": "692d286c-8273-4d9e-b0ce-de94a22c66cb",
   "metadata": {},
   "outputs": [
    {
     "data": {
      "application/vnd.jupyter.widget-view+json": {
       "model_id": "d9ee650b57544b809cb35f2b0447e560",
       "version_major": 2,
       "version_minor": 0
      },
      "text/plain": [
       "  0%|          | 0/241 [00:00<?, ?it/s]"
      ]
     },
     "metadata": {},
     "output_type": "display_data"
    }
   ],
   "source": [
    "for doc in tqdm(documents): \n",
    "    doc_id = doc['id']\n",
    "    if doc_id in results:\n",
    "        continue\n",
    "\n",
    "    questions_raw = generate_questions(doc)\n",
    "    questions = json.loads(questions_raw)\n",
    "    results[doc_id] = questions['questions']"
   ]
  },
  {
   "cell_type": "code",
   "execution_count": 92,
   "id": "efdb56cb-6fec-4a51-a237-8ad37a50a286",
   "metadata": {},
   "outputs": [],
   "source": [
    "final_results = []\n",
    "\n",
    "for doc_id, questions in results.items():\n",
    "    for q in questions:\n",
    "        final_results.append((doc_id, q))"
   ]
  },
  {
   "cell_type": "code",
   "execution_count": 93,
   "id": "e2c2b079-fc83-4453-afc0-375c32356e8c",
   "metadata": {},
   "outputs": [
    {
     "data": {
      "text/plain": [
       "(0, 'What materials do I need for the Family Picnic?')"
      ]
     },
     "execution_count": 93,
     "metadata": {},
     "output_type": "execute_result"
    }
   ],
   "source": [
    "final_results[0]"
   ]
  },
  {
   "cell_type": "code",
   "execution_count": 94,
   "id": "a184cf09-f1aa-402f-9b0d-457e69f841a5",
   "metadata": {},
   "outputs": [],
   "source": [
    "df_results = pd.DataFrame(final_results, columns=['id', 'question'])"
   ]
  },
  {
   "cell_type": "code",
   "execution_count": 95,
   "id": "b2b85fff-1858-4496-9741-0ac7767609bf",
   "metadata": {},
   "outputs": [],
   "source": [
    "df_results.to_csv('../data/ground-truth-retrieval.csv', index=False)"
   ]
  },
  {
   "cell_type": "code",
   "execution_count": 96,
   "id": "2791da3f-6c75-4873-a4ac-e53f36f7ec7d",
   "metadata": {},
   "outputs": [
    {
     "name": "stdout",
     "output_type": "stream",
     "text": [
      "id,question\n",
      "0,What materials do I need for the Family Picnic?\n",
      "0,How long should we allocate for the Family Picnic activity?\n",
      "0,What age group is this Family Picnic suitable for?\n",
      "0,Can you provide a simple instruction for organizing the Family Picnic?\n",
      "0,What is the difficulty level of setting up the Family Picnic?\n",
      "1,What materials do I need for the DIY Craft Project?\n",
      "1,How long will the DIY Craft Project take to complete?\n",
      "1,What age group is the DIY Craft Project suitable for?\n",
      "1,What is the difficulty level of the DIY Craft Project?\n"
     ]
    }
   ],
   "source": [
    "!head ../data/ground-truth-retrieval.csv"
   ]
  },
  {
   "cell_type": "code",
   "execution_count": null,
   "id": "6dbbe200-6abb-4804-a1cb-903854b8cb9d",
   "metadata": {},
   "outputs": [],
   "source": []
  }
 ],
 "metadata": {
  "kernelspec": {
   "display_name": "Python 3 (ipykernel)",
   "language": "python",
   "name": "python3"
  },
  "language_info": {
   "codemirror_mode": {
    "name": "ipython",
    "version": 3
   },
   "file_extension": ".py",
   "mimetype": "text/x-python",
   "name": "python",
   "nbconvert_exporter": "python",
   "pygments_lexer": "ipython3",
   "version": "3.11.8"
  }
 },
 "nbformat": 4,
 "nbformat_minor": 5
}
